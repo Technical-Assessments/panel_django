{
 "cells": [
  {
   "cell_type": "code",
   "execution_count": null,
   "metadata": {},
   "outputs": [],
   "source": [
    "import sqlite3\n",
    "from pathlib import Path\n",
    "import sys\n",
    "\n",
    "db_name = \"taxis\"\n",
    "BASE_DIR = \"/Users/davidblanco/Documents/personal/panel_django/src\"\n",
    "conn = sqlite3.connect(f\"{BASE_DIR}/database/{db_name}.db\")\n",
    "\n",
    "cur = conn.cursor()\n",
    "cur.execute(\"SELECT * FROM yellowtaxis\")\n",
    "\n",
    "rows = cur.fetchall()\n",
    "\n",
    "for row in rows[:5]:\n",
    "    print(row)"
   ]
  },
  {
   "cell_type": "code",
   "execution_count": 6,
   "metadata": {},
   "outputs": [],
   "source": [
    "\"\"\" from ...data_scripts.data_wrangling import csv_to_df\n",
    "db_name = \"taxis\"\n",
    "table_name = \"yellowtaxis\"\n",
    "year = 2020\n",
    "taxis_color = \"Yellow\"\n",
    "months = (\"January\",)\n",
    "year_html = None\n",
    "df = csv_to_df(year, taxis_color, *months) \"\"\"\n",
    "\n",
    "import pandas as pd\n",
    "df = pd.read_csv(\"./2020_yellow_jan_feb_mar.csv\")"
   ]
  },
  {
   "cell_type": "code",
   "execution_count": 7,
   "metadata": {},
   "outputs": [
    {
     "data": {
      "text/plain": [
       "Index(['VendorID', 'month', 'tpep_pickup_datetime', 'tpep_dropoff_datetime',\n",
       "       'trip_duration_seconds', 'trip_duration', 'passenger_count',\n",
       "       'trip_distance', 'RatecodeID', 'store_and_fwd_flag', 'PULocationID',\n",
       "       'DOLocationID', 'payment_type', 'fare_amount', 'extra', 'mta_tax',\n",
       "       'tip_amount', 'tolls_amount', 'improvement_surcharge', 'total_amount',\n",
       "       'congestion_surcharge'],\n",
       "      dtype='object')"
      ]
     },
     "execution_count": 7,
     "metadata": {},
     "output_type": "execute_result"
    }
   ],
   "source": [
    "df.columns = [col.lower() for col in df.columns.to_list()]"
   ]
  },
  {
   "cell_type": "code",
   "execution_count": 9,
   "metadata": {},
   "outputs": [
    {
     "data": {
      "text/plain": [
       "['vendorid',\n",
       " 'month',\n",
       " 'tpep_pickup_datetime',\n",
       " 'tpep_dropoff_datetime',\n",
       " 'trip_duration_seconds',\n",
       " 'trip_duration',\n",
       " 'passenger_count',\n",
       " 'trip_distance',\n",
       " 'ratecodeid',\n",
       " 'store_and_fwd_flag',\n",
       " 'pulocationid',\n",
       " 'dolocationid',\n",
       " 'payment_type',\n",
       " 'fare_amount',\n",
       " 'extra',\n",
       " 'mta_tax',\n",
       " 'tip_amount',\n",
       " 'tolls_amount',\n",
       " 'improvement_surcharge',\n",
       " 'total_amount',\n",
       " 'congestion_surcharge']"
      ]
     },
     "execution_count": 9,
     "metadata": {},
     "output_type": "execute_result"
    }
   ],
   "source": [
    "[col.lower() for col in df.columns.to_list()]"
   ]
  },
  {
   "cell_type": "code",
   "execution_count": null,
   "metadata": {},
   "outputs": [],
   "source": []
  }
 ],
 "metadata": {
  "interpreter": {
   "hash": "dc464cb8e000f19ccc44df7f199425d9ac0c3b6978c52d44ce62368d114487ed"
  },
  "kernelspec": {
   "display_name": "Python 3.8.12 64-bit ('django_env': conda)",
   "language": "python",
   "name": "python3"
  },
  "language_info": {
   "codemirror_mode": {
    "name": "ipython",
    "version": 3
   },
   "file_extension": ".py",
   "mimetype": "text/x-python",
   "name": "python",
   "nbconvert_exporter": "python",
   "pygments_lexer": "ipython3",
   "version": "3.8.12"
  },
  "orig_nbformat": 4
 },
 "nbformat": 4,
 "nbformat_minor": 2
}
